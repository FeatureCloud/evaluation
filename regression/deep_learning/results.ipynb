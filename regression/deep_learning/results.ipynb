{
 "cells": [
  {
   "cell_type": "code",
   "execution_count": 12,
   "metadata": {
    "collapsed": true
   },
   "outputs": [],
   "source": [
    "import pandas as pd"
   ]
  },
  {
   "cell_type": "code",
   "execution_count": 20,
   "outputs": [
    {
     "name": "stderr",
     "output_type": "stream",
     "text": [
      "/Users/spaethju/PycharmProjects/evaluation/venv/lib/python3.9/site-packages/openpyxl/worksheet/_reader.py:312: UserWarning: Unknown extension is not supported and will be removed\n",
      "  warn(msg)\n",
      "/Users/spaethju/PycharmProjects/evaluation/venv/lib/python3.9/site-packages/openpyxl/worksheet/_reader.py:312: UserWarning: Conditional Formatting extension is not supported and will be removed\n",
      "  warn(msg)\n"
     ]
    },
    {
     "data": {
      "text/plain": "                                       r-square  root_mean_squared_error\n                               client                                   \nCentralized                    0       0.951071                 0.027520\nFederated                      0       0.939532                 0.030590\nIndividual (Central Test Data) 0       0.060338                 0.120600\n                               1       0.826561                 0.051813\n                               2       0.930970                 0.032687\n                               3       0.949930                 0.027839\n                               4       0.949773                 0.027883\nIndividual (Local Test Data)   0       0.251300                 0.104158\n                               1       0.754401                 0.061984\n                               2       0.928562                 0.033825\n                               3       0.952231                 0.027011\n                               4       0.956553                 0.026713",
      "text/html": "<div>\n<style scoped>\n    .dataframe tbody tr th:only-of-type {\n        vertical-align: middle;\n    }\n\n    .dataframe tbody tr th {\n        vertical-align: top;\n    }\n\n    .dataframe thead th {\n        text-align: right;\n    }\n</style>\n<table border=\"1\" class=\"dataframe\">\n  <thead>\n    <tr style=\"text-align: right;\">\n      <th></th>\n      <th></th>\n      <th>r-square</th>\n      <th>root_mean_squared_error</th>\n    </tr>\n    <tr>\n      <th></th>\n      <th>client</th>\n      <th></th>\n      <th></th>\n    </tr>\n  </thead>\n  <tbody>\n    <tr>\n      <th>Centralized</th>\n      <th>0</th>\n      <td>0.951071</td>\n      <td>0.027520</td>\n    </tr>\n    <tr>\n      <th>Federated</th>\n      <th>0</th>\n      <td>0.939532</td>\n      <td>0.030590</td>\n    </tr>\n    <tr>\n      <th rowspan=\"5\" valign=\"top\">Individual (Central Test Data)</th>\n      <th>0</th>\n      <td>0.060338</td>\n      <td>0.120600</td>\n    </tr>\n    <tr>\n      <th>1</th>\n      <td>0.826561</td>\n      <td>0.051813</td>\n    </tr>\n    <tr>\n      <th>2</th>\n      <td>0.930970</td>\n      <td>0.032687</td>\n    </tr>\n    <tr>\n      <th>3</th>\n      <td>0.949930</td>\n      <td>0.027839</td>\n    </tr>\n    <tr>\n      <th>4</th>\n      <td>0.949773</td>\n      <td>0.027883</td>\n    </tr>\n    <tr>\n      <th rowspan=\"5\" valign=\"top\">Individual (Local Test Data)</th>\n      <th>0</th>\n      <td>0.251300</td>\n      <td>0.104158</td>\n    </tr>\n    <tr>\n      <th>1</th>\n      <td>0.754401</td>\n      <td>0.061984</td>\n    </tr>\n    <tr>\n      <th>2</th>\n      <td>0.928562</td>\n      <td>0.033825</td>\n    </tr>\n    <tr>\n      <th>3</th>\n      <td>0.952231</td>\n      <td>0.027011</td>\n    </tr>\n    <tr>\n      <th>4</th>\n      <td>0.956553</td>\n      <td>0.026713</td>\n    </tr>\n  </tbody>\n</table>\n</div>"
     },
     "execution_count": 20,
     "metadata": {},
     "output_type": "execute_result"
    }
   ],
   "source": [
    "dl_results = pd.read_excel('dl_results.xlsx', index_col=[0,1])\n",
    "dl_results"
   ],
   "metadata": {
    "collapsed": false
   }
  },
  {
   "cell_type": "code",
   "execution_count": 21,
   "outputs": [
    {
     "data": {
      "text/plain": "0.0275197441120429"
     },
     "execution_count": 21,
     "metadata": {},
     "output_type": "execute_result"
    }
   ],
   "source": [
    "dl_results.loc[('Centralized', 0), 'root_mean_squared_error']"
   ],
   "metadata": {
    "collapsed": false
   }
  },
  {
   "cell_type": "code",
   "execution_count": null,
   "outputs": [],
   "source": [],
   "metadata": {
    "collapsed": false
   }
  }
 ],
 "metadata": {
  "kernelspec": {
   "display_name": "Python 3",
   "language": "python",
   "name": "python3"
  },
  "language_info": {
   "codemirror_mode": {
    "name": "ipython",
    "version": 2
   },
   "file_extension": ".py",
   "mimetype": "text/x-python",
   "name": "python",
   "nbconvert_exporter": "python",
   "pygments_lexer": "ipython2",
   "version": "2.7.6"
  }
 },
 "nbformat": 4,
 "nbformat_minor": 0
}
