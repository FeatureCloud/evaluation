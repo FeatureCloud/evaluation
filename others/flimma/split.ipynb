{
 "cells": [
  {
   "cell_type": "code",
   "execution_count": 8,
   "metadata": {
    "collapsed": true
   },
   "outputs": [],
   "source": [
    "import pandas as pd\n",
    "from pathlib import Path"
   ]
  },
  {
   "cell_type": "code",
   "execution_count": 9,
   "outputs": [],
   "source": [
    "counts = pd.read_csv('1_clients/client_1/counts.tsv', sep='\\t', index_col=0).T\n",
    "design = pd.read_csv('1_clients/client_1/design.tsv', sep='\\t', index_col=0)"
   ],
   "metadata": {
    "collapsed": false
   }
  },
  {
   "cell_type": "code",
   "execution_count": 10,
   "outputs": [
    {
     "data": {
      "text/plain": "                 Lum  Basal  is_LumA  diagnosis_age  stage  \\\nTCGA-A2-A0CT-01    1      0        1           71.0      2   \nTCGA-A2-A0D3-01    1      0        1           42.0      1   \nTCGA-A2-A0ES-01    1      0        1           52.0      2   \nTCGA-A2-A0YJ-01    0      1        0           39.0      3   \nTCGA-A7-A26I-01    0      1        0           65.0      2   \n...              ...    ...      ...            ...    ...   \nTCGA-E9-A1NI-01    1      0        0           51.0      2   \nTCGA-E9-A22D-01    1      0        0           38.0      2   \nTCGA-E9-A295-01    1      0        1           71.0      2   \nTCGA-EW-A1P4-01    0      1        0           43.0      2   \nTCGA-S3-AA14-01    1      0        1           47.0      1   \n\n                 Entrezid:100130426  Entrezid:100133144  Entrezid:100134869  \\\nTCGA-A2-A0CT-01                   0                   0                  12   \nTCGA-A2-A0D3-01                   0                  39                  14   \nTCGA-A2-A0ES-01                   0                  27                  14   \nTCGA-A2-A0YJ-01                   0                  14                  19   \nTCGA-A7-A26I-01                   0                  54                  21   \n...                             ...                 ...                 ...   \nTCGA-E9-A1NI-01                   0                  12                  15   \nTCGA-E9-A22D-01                   0                  12                  12   \nTCGA-E9-A295-01                   1                   1                   8   \nTCGA-EW-A1P4-01                   0                   3                   7   \nTCGA-S3-AA14-01                   0                  21                  41   \n\n                 Entrezid:10357  Entrezid:10431  ...  ZXDA  ZXDB  ZXDC  \\\nTCGA-A2-A0CT-01             142            2155  ...   254  5813  2505   \nTCGA-A2-A0D3-01             274            2688  ...   317  3578  3745   \nTCGA-A2-A0ES-01             227            2151  ...   231  1721  3558   \nTCGA-A2-A0YJ-01             380            2618  ...   120   754  2906   \nTCGA-A7-A26I-01             334            5189  ...   378  2797  3139   \n...                         ...             ...  ...   ...   ...   ...   \nTCGA-E9-A1NI-01             182            2696  ...   101   580  1888   \nTCGA-E9-A22D-01             831            5316  ...   236  2271  2007   \nTCGA-E9-A295-01             146            2458  ...   114   825  1475   \nTCGA-EW-A1P4-01             345            3321  ...    54   469  2825   \nTCGA-S3-AA14-01             168            1049  ...   146  1145  2185   \n\n                 ZYG11A  ZYG11B    ZYX  ZZEF1  ZZZ3  psiTPTE22  tAKR  \nTCGA-A2-A0CT-01      63    2174   2539   3064  1936        152     0  \nTCGA-A2-A0D3-01     268    2976  15067   5174  3718        315     0  \nTCGA-A2-A0ES-01     149    2847  13444   3999  2752        486     0  \nTCGA-A2-A0YJ-01     263    2583   8318   4215  2282        219     0  \nTCGA-A7-A26I-01     880    7162  20921   4847  4848        818     0  \n...                 ...     ...    ...    ...   ...        ...   ...  \nTCGA-E9-A1NI-01     119    1314   4392   2003  1265         57     0  \nTCGA-E9-A22D-01     403    2322  12012   2808  3087       1977     0  \nTCGA-E9-A295-01     139    1190   5040   1812  1060       1934     0  \nTCGA-EW-A1P4-01     246    1755   9149   2407  3832         33     0  \nTCGA-S3-AA14-01     149    1812   8862   4446  1730       1192     0  \n\n[152 rows x 20536 columns]",
      "text/html": "<div>\n<style scoped>\n    .dataframe tbody tr th:only-of-type {\n        vertical-align: middle;\n    }\n\n    .dataframe tbody tr th {\n        vertical-align: top;\n    }\n\n    .dataframe thead th {\n        text-align: right;\n    }\n</style>\n<table border=\"1\" class=\"dataframe\">\n  <thead>\n    <tr style=\"text-align: right;\">\n      <th></th>\n      <th>Lum</th>\n      <th>Basal</th>\n      <th>is_LumA</th>\n      <th>diagnosis_age</th>\n      <th>stage</th>\n      <th>Entrezid:100130426</th>\n      <th>Entrezid:100133144</th>\n      <th>Entrezid:100134869</th>\n      <th>Entrezid:10357</th>\n      <th>Entrezid:10431</th>\n      <th>...</th>\n      <th>ZXDA</th>\n      <th>ZXDB</th>\n      <th>ZXDC</th>\n      <th>ZYG11A</th>\n      <th>ZYG11B</th>\n      <th>ZYX</th>\n      <th>ZZEF1</th>\n      <th>ZZZ3</th>\n      <th>psiTPTE22</th>\n      <th>tAKR</th>\n    </tr>\n  </thead>\n  <tbody>\n    <tr>\n      <th>TCGA-A2-A0CT-01</th>\n      <td>1</td>\n      <td>0</td>\n      <td>1</td>\n      <td>71.0</td>\n      <td>2</td>\n      <td>0</td>\n      <td>0</td>\n      <td>12</td>\n      <td>142</td>\n      <td>2155</td>\n      <td>...</td>\n      <td>254</td>\n      <td>5813</td>\n      <td>2505</td>\n      <td>63</td>\n      <td>2174</td>\n      <td>2539</td>\n      <td>3064</td>\n      <td>1936</td>\n      <td>152</td>\n      <td>0</td>\n    </tr>\n    <tr>\n      <th>TCGA-A2-A0D3-01</th>\n      <td>1</td>\n      <td>0</td>\n      <td>1</td>\n      <td>42.0</td>\n      <td>1</td>\n      <td>0</td>\n      <td>39</td>\n      <td>14</td>\n      <td>274</td>\n      <td>2688</td>\n      <td>...</td>\n      <td>317</td>\n      <td>3578</td>\n      <td>3745</td>\n      <td>268</td>\n      <td>2976</td>\n      <td>15067</td>\n      <td>5174</td>\n      <td>3718</td>\n      <td>315</td>\n      <td>0</td>\n    </tr>\n    <tr>\n      <th>TCGA-A2-A0ES-01</th>\n      <td>1</td>\n      <td>0</td>\n      <td>1</td>\n      <td>52.0</td>\n      <td>2</td>\n      <td>0</td>\n      <td>27</td>\n      <td>14</td>\n      <td>227</td>\n      <td>2151</td>\n      <td>...</td>\n      <td>231</td>\n      <td>1721</td>\n      <td>3558</td>\n      <td>149</td>\n      <td>2847</td>\n      <td>13444</td>\n      <td>3999</td>\n      <td>2752</td>\n      <td>486</td>\n      <td>0</td>\n    </tr>\n    <tr>\n      <th>TCGA-A2-A0YJ-01</th>\n      <td>0</td>\n      <td>1</td>\n      <td>0</td>\n      <td>39.0</td>\n      <td>3</td>\n      <td>0</td>\n      <td>14</td>\n      <td>19</td>\n      <td>380</td>\n      <td>2618</td>\n      <td>...</td>\n      <td>120</td>\n      <td>754</td>\n      <td>2906</td>\n      <td>263</td>\n      <td>2583</td>\n      <td>8318</td>\n      <td>4215</td>\n      <td>2282</td>\n      <td>219</td>\n      <td>0</td>\n    </tr>\n    <tr>\n      <th>TCGA-A7-A26I-01</th>\n      <td>0</td>\n      <td>1</td>\n      <td>0</td>\n      <td>65.0</td>\n      <td>2</td>\n      <td>0</td>\n      <td>54</td>\n      <td>21</td>\n      <td>334</td>\n      <td>5189</td>\n      <td>...</td>\n      <td>378</td>\n      <td>2797</td>\n      <td>3139</td>\n      <td>880</td>\n      <td>7162</td>\n      <td>20921</td>\n      <td>4847</td>\n      <td>4848</td>\n      <td>818</td>\n      <td>0</td>\n    </tr>\n    <tr>\n      <th>...</th>\n      <td>...</td>\n      <td>...</td>\n      <td>...</td>\n      <td>...</td>\n      <td>...</td>\n      <td>...</td>\n      <td>...</td>\n      <td>...</td>\n      <td>...</td>\n      <td>...</td>\n      <td>...</td>\n      <td>...</td>\n      <td>...</td>\n      <td>...</td>\n      <td>...</td>\n      <td>...</td>\n      <td>...</td>\n      <td>...</td>\n      <td>...</td>\n      <td>...</td>\n      <td>...</td>\n    </tr>\n    <tr>\n      <th>TCGA-E9-A1NI-01</th>\n      <td>1</td>\n      <td>0</td>\n      <td>0</td>\n      <td>51.0</td>\n      <td>2</td>\n      <td>0</td>\n      <td>12</td>\n      <td>15</td>\n      <td>182</td>\n      <td>2696</td>\n      <td>...</td>\n      <td>101</td>\n      <td>580</td>\n      <td>1888</td>\n      <td>119</td>\n      <td>1314</td>\n      <td>4392</td>\n      <td>2003</td>\n      <td>1265</td>\n      <td>57</td>\n      <td>0</td>\n    </tr>\n    <tr>\n      <th>TCGA-E9-A22D-01</th>\n      <td>1</td>\n      <td>0</td>\n      <td>0</td>\n      <td>38.0</td>\n      <td>2</td>\n      <td>0</td>\n      <td>12</td>\n      <td>12</td>\n      <td>831</td>\n      <td>5316</td>\n      <td>...</td>\n      <td>236</td>\n      <td>2271</td>\n      <td>2007</td>\n      <td>403</td>\n      <td>2322</td>\n      <td>12012</td>\n      <td>2808</td>\n      <td>3087</td>\n      <td>1977</td>\n      <td>0</td>\n    </tr>\n    <tr>\n      <th>TCGA-E9-A295-01</th>\n      <td>1</td>\n      <td>0</td>\n      <td>1</td>\n      <td>71.0</td>\n      <td>2</td>\n      <td>1</td>\n      <td>1</td>\n      <td>8</td>\n      <td>146</td>\n      <td>2458</td>\n      <td>...</td>\n      <td>114</td>\n      <td>825</td>\n      <td>1475</td>\n      <td>139</td>\n      <td>1190</td>\n      <td>5040</td>\n      <td>1812</td>\n      <td>1060</td>\n      <td>1934</td>\n      <td>0</td>\n    </tr>\n    <tr>\n      <th>TCGA-EW-A1P4-01</th>\n      <td>0</td>\n      <td>1</td>\n      <td>0</td>\n      <td>43.0</td>\n      <td>2</td>\n      <td>0</td>\n      <td>3</td>\n      <td>7</td>\n      <td>345</td>\n      <td>3321</td>\n      <td>...</td>\n      <td>54</td>\n      <td>469</td>\n      <td>2825</td>\n      <td>246</td>\n      <td>1755</td>\n      <td>9149</td>\n      <td>2407</td>\n      <td>3832</td>\n      <td>33</td>\n      <td>0</td>\n    </tr>\n    <tr>\n      <th>TCGA-S3-AA14-01</th>\n      <td>1</td>\n      <td>0</td>\n      <td>1</td>\n      <td>47.0</td>\n      <td>1</td>\n      <td>0</td>\n      <td>21</td>\n      <td>41</td>\n      <td>168</td>\n      <td>1049</td>\n      <td>...</td>\n      <td>146</td>\n      <td>1145</td>\n      <td>2185</td>\n      <td>149</td>\n      <td>1812</td>\n      <td>8862</td>\n      <td>4446</td>\n      <td>1730</td>\n      <td>1192</td>\n      <td>0</td>\n    </tr>\n  </tbody>\n</table>\n<p>152 rows × 20536 columns</p>\n</div>"
     },
     "execution_count": 10,
     "metadata": {},
     "output_type": "execute_result"
    }
   ],
   "source": [
    "data = pd.concat([design, counts], axis=1)\n",
    "data"
   ],
   "metadata": {
    "collapsed": false
   }
  },
  {
   "cell_type": "code",
   "execution_count": 11,
   "outputs": [],
   "source": [
    "def split_by_fractions(df: pd.DataFrame, fracs: list, random_state: int):\n",
    "    df = df.sample(frac=1.0, random_state=random_state)\n",
    "    assert sum(fracs) == 1.0, 'fractions sum is not 1.0 (fractions_sum={})'.format(sum(fracs))\n",
    "    remain = df.index.copy().to_frame()\n",
    "    res = []\n",
    "    for i in range(len(fracs)):\n",
    "        fractions_sum = sum(fracs[i:])\n",
    "        frac = fracs[i] / fractions_sum\n",
    "        idxs = remain.sample(frac=frac, random_state=random_state).index\n",
    "        remain = remain.drop(idxs)\n",
    "        res.append(idxs)\n",
    "    return [df.loc[idxs] for idxs in res]"
   ],
   "metadata": {
    "collapsed": false
   }
  },
  {
   "cell_type": "code",
   "execution_count": 12,
   "outputs": [
    {
     "data": {
      "text/plain": "                 Lum  Basal  is_LumA  diagnosis_age  stage  \\\nTCGA-E2-A15F-01    1      0        1           64.0      1   \nTCGA-AO-A1KR-01    0      1        0           51.0      2   \nTCGA-D8-A1JM-01    0      1        0           59.0      2   \nTCGA-A7-A4SE-01    0      1        0           54.0      2   \nTCGA-E2-A15S-01    1      0        0           34.0      2   \nTCGA-A2-A0ER-01    1      0        1           63.0      1   \nTCGA-E2-A105-01    1      0        1           79.0      2   \nTCGA-A7-A5ZW-01    1      0        1           47.0      2   \nTCGA-BH-A0EA-01    1      0        1           72.0      2   \nTCGA-AN-A0AS-01    1      0        1           70.0      3   \nTCGA-E2-A14O-01    1      0        0           76.0      3   \nTCGA-E2-A574-01    0      1        0           44.0      2   \nTCGA-C8-A274-01    1      0        0           63.0      2   \nTCGA-AN-A0AJ-01    1      0        0           79.0      2   \nTCGA-E2-A1AZ-01    0      1        0           63.0      2   \n\n                 Entrezid:100130426  Entrezid:100133144  Entrezid:100134869  \\\nTCGA-E2-A15F-01                   0                  41                  12   \nTCGA-AO-A1KR-01                   0                   0                  11   \nTCGA-D8-A1JM-01                   0                  63                  40   \nTCGA-A7-A4SE-01                   0                  21                  40   \nTCGA-E2-A15S-01                   0                  65                  34   \nTCGA-A2-A0ER-01                   0                  26                  10   \nTCGA-E2-A105-01                   0                  63                  52   \nTCGA-A7-A5ZW-01                   0                   0                  11   \nTCGA-BH-A0EA-01                   0                  10                  21   \nTCGA-AN-A0AS-01                   0                   8                  21   \nTCGA-E2-A14O-01                   0                  27                  19   \nTCGA-E2-A574-01                   0                   0                  15   \nTCGA-C8-A274-01                   0                  68                  73   \nTCGA-AN-A0AJ-01                   0                  44                   6   \nTCGA-E2-A1AZ-01                   0                   9                  10   \n\n                 Entrezid:10357  Entrezid:10431  ...  ZXDA  ZXDB  ZXDC  \\\nTCGA-E2-A15F-01             213            2290  ...   178  1811  4239   \nTCGA-AO-A1KR-01             196            3348  ...    21   262  1561   \nTCGA-D8-A1JM-01             321            5814  ...   174  1543  2897   \nTCGA-A7-A4SE-01             315            1176  ...   111   758  2132   \nTCGA-E2-A15S-01             228            5266  ...   376  3747  7197   \nTCGA-A2-A0ER-01             366            3073  ...   272  2331  3567   \nTCGA-E2-A105-01             292            2942  ...   238  2025  4205   \nTCGA-A7-A5ZW-01             409            2170  ...   117  1177  1736   \nTCGA-BH-A0EA-01             164            1369  ...   327  1497  2665   \nTCGA-AN-A0AS-01             218            1988  ...   189  1287  3805   \nTCGA-E2-A14O-01             244            5872  ...    47   515  1927   \nTCGA-E2-A574-01             385            2640  ...    69   588  1224   \nTCGA-C8-A274-01             276            4705  ...   461  3920  4121   \nTCGA-AN-A0AJ-01             386            4941  ...   200  1904  4181   \nTCGA-E2-A1AZ-01             228            2106  ...   108   839  1796   \n\n                 ZYG11A  ZYG11B    ZYX  ZZEF1   ZZZ3  psiTPTE22  tAKR  \nTCGA-E2-A15F-01     140    2529   5647   6733   2349         48     0  \nTCGA-AO-A1KR-01     811    1256   6407   1273   1086         44     0  \nTCGA-D8-A1JM-01    1419    2445  12249   2665   4180       1150     3  \nTCGA-A7-A4SE-01     143    1790  16939   2559   1685         42     0  \nTCGA-E2-A15S-01     732    4150   3040   5304  25280        972     0  \nTCGA-A2-A0ER-01     133    3633   5167   6208   2836         56     0  \nTCGA-E2-A105-01     248    3247   6649   2290   3422        112     0  \nTCGA-A7-A5ZW-01     126    1961   9168   2184   2541        888     0  \nTCGA-BH-A0EA-01     121    1800  15226   3746   2162        829     0  \nTCGA-AN-A0AS-01       2    1586   8627   2451   1672         90     0  \nTCGA-E2-A14O-01     334    1384   5319    868   1030         44     0  \nTCGA-E2-A574-01     255     725   6113    861   1157         24     0  \nTCGA-C8-A274-01     754    2577   9982   5397   2995        651     0  \nTCGA-AN-A0AJ-01     702    2509   7494   4940   2364         63     2  \nTCGA-E2-A1AZ-01     532    2305   3822   1468   1974        140     0  \n\n[15 rows x 20536 columns]",
      "text/html": "<div>\n<style scoped>\n    .dataframe tbody tr th:only-of-type {\n        vertical-align: middle;\n    }\n\n    .dataframe tbody tr th {\n        vertical-align: top;\n    }\n\n    .dataframe thead th {\n        text-align: right;\n    }\n</style>\n<table border=\"1\" class=\"dataframe\">\n  <thead>\n    <tr style=\"text-align: right;\">\n      <th></th>\n      <th>Lum</th>\n      <th>Basal</th>\n      <th>is_LumA</th>\n      <th>diagnosis_age</th>\n      <th>stage</th>\n      <th>Entrezid:100130426</th>\n      <th>Entrezid:100133144</th>\n      <th>Entrezid:100134869</th>\n      <th>Entrezid:10357</th>\n      <th>Entrezid:10431</th>\n      <th>...</th>\n      <th>ZXDA</th>\n      <th>ZXDB</th>\n      <th>ZXDC</th>\n      <th>ZYG11A</th>\n      <th>ZYG11B</th>\n      <th>ZYX</th>\n      <th>ZZEF1</th>\n      <th>ZZZ3</th>\n      <th>psiTPTE22</th>\n      <th>tAKR</th>\n    </tr>\n  </thead>\n  <tbody>\n    <tr>\n      <th>TCGA-E2-A15F-01</th>\n      <td>1</td>\n      <td>0</td>\n      <td>1</td>\n      <td>64.0</td>\n      <td>1</td>\n      <td>0</td>\n      <td>41</td>\n      <td>12</td>\n      <td>213</td>\n      <td>2290</td>\n      <td>...</td>\n      <td>178</td>\n      <td>1811</td>\n      <td>4239</td>\n      <td>140</td>\n      <td>2529</td>\n      <td>5647</td>\n      <td>6733</td>\n      <td>2349</td>\n      <td>48</td>\n      <td>0</td>\n    </tr>\n    <tr>\n      <th>TCGA-AO-A1KR-01</th>\n      <td>0</td>\n      <td>1</td>\n      <td>0</td>\n      <td>51.0</td>\n      <td>2</td>\n      <td>0</td>\n      <td>0</td>\n      <td>11</td>\n      <td>196</td>\n      <td>3348</td>\n      <td>...</td>\n      <td>21</td>\n      <td>262</td>\n      <td>1561</td>\n      <td>811</td>\n      <td>1256</td>\n      <td>6407</td>\n      <td>1273</td>\n      <td>1086</td>\n      <td>44</td>\n      <td>0</td>\n    </tr>\n    <tr>\n      <th>TCGA-D8-A1JM-01</th>\n      <td>0</td>\n      <td>1</td>\n      <td>0</td>\n      <td>59.0</td>\n      <td>2</td>\n      <td>0</td>\n      <td>63</td>\n      <td>40</td>\n      <td>321</td>\n      <td>5814</td>\n      <td>...</td>\n      <td>174</td>\n      <td>1543</td>\n      <td>2897</td>\n      <td>1419</td>\n      <td>2445</td>\n      <td>12249</td>\n      <td>2665</td>\n      <td>4180</td>\n      <td>1150</td>\n      <td>3</td>\n    </tr>\n    <tr>\n      <th>TCGA-A7-A4SE-01</th>\n      <td>0</td>\n      <td>1</td>\n      <td>0</td>\n      <td>54.0</td>\n      <td>2</td>\n      <td>0</td>\n      <td>21</td>\n      <td>40</td>\n      <td>315</td>\n      <td>1176</td>\n      <td>...</td>\n      <td>111</td>\n      <td>758</td>\n      <td>2132</td>\n      <td>143</td>\n      <td>1790</td>\n      <td>16939</td>\n      <td>2559</td>\n      <td>1685</td>\n      <td>42</td>\n      <td>0</td>\n    </tr>\n    <tr>\n      <th>TCGA-E2-A15S-01</th>\n      <td>1</td>\n      <td>0</td>\n      <td>0</td>\n      <td>34.0</td>\n      <td>2</td>\n      <td>0</td>\n      <td>65</td>\n      <td>34</td>\n      <td>228</td>\n      <td>5266</td>\n      <td>...</td>\n      <td>376</td>\n      <td>3747</td>\n      <td>7197</td>\n      <td>732</td>\n      <td>4150</td>\n      <td>3040</td>\n      <td>5304</td>\n      <td>25280</td>\n      <td>972</td>\n      <td>0</td>\n    </tr>\n    <tr>\n      <th>TCGA-A2-A0ER-01</th>\n      <td>1</td>\n      <td>0</td>\n      <td>1</td>\n      <td>63.0</td>\n      <td>1</td>\n      <td>0</td>\n      <td>26</td>\n      <td>10</td>\n      <td>366</td>\n      <td>3073</td>\n      <td>...</td>\n      <td>272</td>\n      <td>2331</td>\n      <td>3567</td>\n      <td>133</td>\n      <td>3633</td>\n      <td>5167</td>\n      <td>6208</td>\n      <td>2836</td>\n      <td>56</td>\n      <td>0</td>\n    </tr>\n    <tr>\n      <th>TCGA-E2-A105-01</th>\n      <td>1</td>\n      <td>0</td>\n      <td>1</td>\n      <td>79.0</td>\n      <td>2</td>\n      <td>0</td>\n      <td>63</td>\n      <td>52</td>\n      <td>292</td>\n      <td>2942</td>\n      <td>...</td>\n      <td>238</td>\n      <td>2025</td>\n      <td>4205</td>\n      <td>248</td>\n      <td>3247</td>\n      <td>6649</td>\n      <td>2290</td>\n      <td>3422</td>\n      <td>112</td>\n      <td>0</td>\n    </tr>\n    <tr>\n      <th>TCGA-A7-A5ZW-01</th>\n      <td>1</td>\n      <td>0</td>\n      <td>1</td>\n      <td>47.0</td>\n      <td>2</td>\n      <td>0</td>\n      <td>0</td>\n      <td>11</td>\n      <td>409</td>\n      <td>2170</td>\n      <td>...</td>\n      <td>117</td>\n      <td>1177</td>\n      <td>1736</td>\n      <td>126</td>\n      <td>1961</td>\n      <td>9168</td>\n      <td>2184</td>\n      <td>2541</td>\n      <td>888</td>\n      <td>0</td>\n    </tr>\n    <tr>\n      <th>TCGA-BH-A0EA-01</th>\n      <td>1</td>\n      <td>0</td>\n      <td>1</td>\n      <td>72.0</td>\n      <td>2</td>\n      <td>0</td>\n      <td>10</td>\n      <td>21</td>\n      <td>164</td>\n      <td>1369</td>\n      <td>...</td>\n      <td>327</td>\n      <td>1497</td>\n      <td>2665</td>\n      <td>121</td>\n      <td>1800</td>\n      <td>15226</td>\n      <td>3746</td>\n      <td>2162</td>\n      <td>829</td>\n      <td>0</td>\n    </tr>\n    <tr>\n      <th>TCGA-AN-A0AS-01</th>\n      <td>1</td>\n      <td>0</td>\n      <td>1</td>\n      <td>70.0</td>\n      <td>3</td>\n      <td>0</td>\n      <td>8</td>\n      <td>21</td>\n      <td>218</td>\n      <td>1988</td>\n      <td>...</td>\n      <td>189</td>\n      <td>1287</td>\n      <td>3805</td>\n      <td>2</td>\n      <td>1586</td>\n      <td>8627</td>\n      <td>2451</td>\n      <td>1672</td>\n      <td>90</td>\n      <td>0</td>\n    </tr>\n    <tr>\n      <th>TCGA-E2-A14O-01</th>\n      <td>1</td>\n      <td>0</td>\n      <td>0</td>\n      <td>76.0</td>\n      <td>3</td>\n      <td>0</td>\n      <td>27</td>\n      <td>19</td>\n      <td>244</td>\n      <td>5872</td>\n      <td>...</td>\n      <td>47</td>\n      <td>515</td>\n      <td>1927</td>\n      <td>334</td>\n      <td>1384</td>\n      <td>5319</td>\n      <td>868</td>\n      <td>1030</td>\n      <td>44</td>\n      <td>0</td>\n    </tr>\n    <tr>\n      <th>TCGA-E2-A574-01</th>\n      <td>0</td>\n      <td>1</td>\n      <td>0</td>\n      <td>44.0</td>\n      <td>2</td>\n      <td>0</td>\n      <td>0</td>\n      <td>15</td>\n      <td>385</td>\n      <td>2640</td>\n      <td>...</td>\n      <td>69</td>\n      <td>588</td>\n      <td>1224</td>\n      <td>255</td>\n      <td>725</td>\n      <td>6113</td>\n      <td>861</td>\n      <td>1157</td>\n      <td>24</td>\n      <td>0</td>\n    </tr>\n    <tr>\n      <th>TCGA-C8-A274-01</th>\n      <td>1</td>\n      <td>0</td>\n      <td>0</td>\n      <td>63.0</td>\n      <td>2</td>\n      <td>0</td>\n      <td>68</td>\n      <td>73</td>\n      <td>276</td>\n      <td>4705</td>\n      <td>...</td>\n      <td>461</td>\n      <td>3920</td>\n      <td>4121</td>\n      <td>754</td>\n      <td>2577</td>\n      <td>9982</td>\n      <td>5397</td>\n      <td>2995</td>\n      <td>651</td>\n      <td>0</td>\n    </tr>\n    <tr>\n      <th>TCGA-AN-A0AJ-01</th>\n      <td>1</td>\n      <td>0</td>\n      <td>0</td>\n      <td>79.0</td>\n      <td>2</td>\n      <td>0</td>\n      <td>44</td>\n      <td>6</td>\n      <td>386</td>\n      <td>4941</td>\n      <td>...</td>\n      <td>200</td>\n      <td>1904</td>\n      <td>4181</td>\n      <td>702</td>\n      <td>2509</td>\n      <td>7494</td>\n      <td>4940</td>\n      <td>2364</td>\n      <td>63</td>\n      <td>2</td>\n    </tr>\n    <tr>\n      <th>TCGA-E2-A1AZ-01</th>\n      <td>0</td>\n      <td>1</td>\n      <td>0</td>\n      <td>63.0</td>\n      <td>2</td>\n      <td>0</td>\n      <td>9</td>\n      <td>10</td>\n      <td>228</td>\n      <td>2106</td>\n      <td>...</td>\n      <td>108</td>\n      <td>839</td>\n      <td>1796</td>\n      <td>532</td>\n      <td>2305</td>\n      <td>3822</td>\n      <td>1468</td>\n      <td>1974</td>\n      <td>140</td>\n      <td>0</td>\n    </tr>\n  </tbody>\n</table>\n<p>15 rows × 20536 columns</p>\n</div>"
     },
     "metadata": {},
     "output_type": "display_data"
    }
   ],
   "source": [
    "c, p1, p2, p3, p4 = split_by_fractions(data, fracs=[0.1, 0.15, 0.15, 0.3, 0.3], random_state=42)\n",
    "display(c)\n",
    "clients = [c, p1, p2, p3, p4]\n",
    "for n_client in range(1, 6):\n",
    "    Path(f'5_clients/client_{n_client}').mkdir(parents=True, exist_ok=True)\n",
    "    counts = clients[n_client-1].drop(['Lum', 'Basal', 'is_LumA', 'diagnosis_age', 'stage'], axis=1).T\n",
    "    design = clients[n_client-1].loc[:, ['Lum', 'Basal', 'is_LumA', 'diagnosis_age', 'stage']]\n",
    "    counts.to_csv(f'5_clients/client_{n_client}/counts.tsv', index=True, sep='\\t')\n",
    "    design.to_csv(f'5_clients/client_{n_client}/design.tsv', index=True, sep='\\t')\n"
   ],
   "metadata": {
    "collapsed": false
   }
  },
  {
   "cell_type": "code",
   "execution_count": null,
   "outputs": [],
   "source": [],
   "metadata": {
    "collapsed": false
   }
  }
 ],
 "metadata": {
  "kernelspec": {
   "display_name": "Python 3",
   "language": "python",
   "name": "python3"
  },
  "language_info": {
   "codemirror_mode": {
    "name": "ipython",
    "version": 2
   },
   "file_extension": ".py",
   "mimetype": "text/x-python",
   "name": "python",
   "nbconvert_exporter": "python",
   "pygments_lexer": "ipython2",
   "version": "2.7.6"
  }
 },
 "nbformat": 4,
 "nbformat_minor": 0
}
